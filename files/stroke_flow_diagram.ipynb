{
 "cells": [
  {
   "attachments": {},
   "cell_type": "markdown",
   "id": "70f55896-f3cf-4ec5-b459-a7492902969f",
   "metadata": {},
   "source": [
    "# Graphviz plot of proposed thrombolysis decision-making model\n",
    "\n",
    "## Set up graph"
   ]
  },
  {
   "cell_type": "code",
   "execution_count": null,
   "id": "99fc9b5a-6ca2-474d-bfc6-090ce67a3a0c",
   "metadata": {},
   "outputs": [],
   "source": [
    "try:\n",
    "    from graphviz import Digraph\n",
    "except:\n",
    "    !pip install graphviz\n",
    "    from graphviz import Digraph\n",
    "\n",
    "# Create a directed graph\n",
    "g = Digraph()\n",
    "\n",
    "# Set graph attributes (allow it to go large scale, and set a minimum spacing)\n",
    "g.attr(overlap='scale')\n",
    "g.attr(sep='0.3')\n",
    "\n",
    "# Use custom layout engine if desired (see https://graphviz.org/docs/layouts/)\n",
    "#g.attr(layout='neato')\n",
    "\n",
    "# Set node attributes\n",
    "g.attr('node', shape='circle', fixedsize='true', width='1.3', height='1.2',ordering=\"out\")\n"
   ]
  },
  {
   "attachments": {},
   "cell_type": "markdown",
   "id": "e7f3441a-a030-4f9f-9c7a-f3f348babec9",
   "metadata": {},
   "source": [
    "## Set up nodes"
   ]
  },
  {
   "cell_type": "code",
   "execution_count": null,
   "id": "8b260b9c-3e3c-4f60-8946-24e21a5ab6aa",
   "metadata": {},
   "outputs": [],
   "source": [
    "# Main model and output nodes\n",
    "g.node('model', label='Integrated\\nStroke\\nCare\\nModelling', penwidth='2')\n",
    "g.node('web_app', label='Web App\\nInterface')\n",
    "g.node('outcomes', label='Disability +\\nDeath\\nOutcomes')\n",
    "g.node('los', label='Inpatient\\nLength\\of stay')\n",
    "\n",
    "# Methods node\n",
    "g.node('causal', label='Causal\\nInference')\n",
    "g.node('geography', label='Geographic\\nModelling\\nand\\nOptimisation')\n",
    "g.node('sim', label='Clinical\\nPathway\\nSimulation')\n",
    "g.node('maths', label='Mathematical\\nOutcome\\nModelling')\n",
    "g.node('he', label='Health\\nEconomics')\n",
    "g.node('xai', label='Explainable\\nMachine\\nLearning')\n",
    "g.node('coprod', label='Co-Production')\n",
    "g.node('qual', label='Qualitative\\nResearch')\n",
    "g.node('ssnap', label='Clinical\\nAudit')\n"
   ]
  },
  {
   "attachments": {},
   "cell_type": "markdown",
   "id": "886c48df-dd89-43ef-aa8f-3a1a914253d8",
   "metadata": {},
   "source": [
    "## Describe edges"
   ]
  },
  {
   "cell_type": "code",
   "execution_count": null,
   "id": "89b1d08a-2aac-4e65-a1cf-3653abfc89ca",
   "metadata": {},
   "outputs": [],
   "source": [
    "# Outputs\n",
    "g.edge('model', 'web_app')\n",
    "g.edge('web_app', 'outcomes')\n",
    "g.edge('web_app', 'los')\n",
    "\n",
    "# Methods\n",
    "g.edge('ssnap', 'model')\n",
    "g.edge('xai', 'model')\n",
    "g.edge('sim', 'model')\n",
    "g.edge('causal', 'model')\n",
    "g.edge('geography', 'model')\n",
    "g.edge('maths', 'model')\n",
    "g.edge('he', 'model')\n",
    "g.edge('coprod', 'model')\n",
    "g.edge('qual', 'model')\n"
   ]
  },
  {
   "attachments": {},
   "cell_type": "markdown",
   "id": "41a15781-8730-47b9-b3c7-af82f1b9a246",
   "metadata": {},
   "source": [
    "## Display and save"
   ]
  },
  {
   "cell_type": "code",
   "execution_count": null,
   "id": "a728d95d-6235-4036-b54c-6400a4e2428d",
   "metadata": {},
   "outputs": [],
   "source": [
    "g"
   ]
  },
  {
   "attachments": {},
   "cell_type": "markdown",
   "id": "6b1f6102-4a12-4dc9-b555-11f904a4d1a1",
   "metadata": {},
   "source": [
    "## "
   ]
  },
  {
   "cell_type": "code",
   "execution_count": null,
   "id": "930c5cf0-a951-442f-a48d-18e72283c046",
   "metadata": {},
   "outputs": [],
   "source": [
    "# Save the graph as a PNG file\n",
    "g.format = 'png'\n",
    "g.render('methods', cleanup=True)"
   ]
  }
 ],
 "metadata": {
  "kernelspec": {
   "display_name": "Python 3 (ipykernel)",
   "language": "python",
   "name": "python3"
  },
  "language_info": {
   "codemirror_mode": {
    "name": "ipython",
    "version": 3
   },
   "file_extension": ".py",
   "mimetype": "text/x-python",
   "name": "python",
   "nbconvert_exporter": "python",
   "pygments_lexer": "ipython3",
   "version": "3.10.10"
  }
 },
 "nbformat": 4,
 "nbformat_minor": 5
}
